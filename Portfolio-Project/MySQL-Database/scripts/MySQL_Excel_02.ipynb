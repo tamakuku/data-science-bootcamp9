{
 "cells": [
  {
   "cell_type": "code",
   "execution_count": 1,
   "id": "5d139327",
   "metadata": {},
   "outputs": [
    {
     "name": "stdout",
     "output_type": "stream",
     "text": [
      "Requirement already satisfied: pymysql in c:\\users\\v_pan\\anaconda3\\lib\\site-packages (1.1.0)\n",
      "Connection successful!\n"
     ]
    }
   ],
   "source": [
    "# for import & export excel file\n",
    "from openpyxl import load_workbook, Workbook\n",
    "\n",
    "# Install pymysql package if you haven't already\n",
    "!pip install pymysql\n",
    "import pymysql\n",
    "\n",
    "# Establish a connection to the MySQL database\n",
    "connection = pymysql.connect(\n",
    "    host='localhost',\n",
    "    port= 3306,\n",
    "    user='root',\n",
    "    password='Suphakit_2024',\n",
    "    database='tama_want_to_buy',\n",
    "    cursorclass=pymysql.cursors.DictCursor\n",
    ")\n",
    "\n",
    "# Check if the connection is successful\n",
    "if connection:\n",
    "    print(\"Connection successful!\")\n",
    "else:\n",
    "    print(\"Connection failed.\")"
   ]
  },
  {
   "cell_type": "code",
   "execution_count": 2,
   "id": "2ee9c5f2",
   "metadata": {},
   "outputs": [
    {
     "name": "stdout",
     "output_type": "stream",
     "text": [
      "[{'id': 1, 'name': 'การ์ดจอ', 'price': 14000, 'category': 'อิเล็กทรอนิกส์'}, {'id': 2, 'name': 'ยางรถยนต์', 'price': 12000, 'category': 'รถยนต์'}, {'id': 3, 'name': 'หูฟัง', 'price': 4500, 'category': 'อิเล็กทรอนิกส์'}, {'id': 4, 'name': 'ซีพียู', 'price': 7000, 'category': 'อิเล็กทรอนิกส์'}]\n"
     ]
    }
   ],
   "source": [
    "# use .cursor() for use SQL code for insert data from db variable\n",
    "cursor = connection.cursor()\n",
    "sql = '''\n",
    "    SELECT p.id, p.name, p.price, c.name AS category\n",
    "    FROM products AS p\n",
    "    LEFT JOIN categories AS c\n",
    "    ON p.category_id = c.id\n",
    "    GROUP BY p.id; \n",
    "'''\n",
    "\n",
    "# use .execute() for insert data from 'sql' variable above into new turple variable is 'products'\n",
    "cursor.execute(sql)\n",
    "products = cursor.fetchall()\n",
    "\n",
    "# print result\n",
    "print(products)"
   ]
  },
  {
   "cell_type": "code",
   "execution_count": 3,
   "id": "bad0caa6",
   "metadata": {},
   "outputs": [],
   "source": [
    "# Create a new Excel workbook and select the active sheet\n",
    "workbook = Workbook()\n",
    "sheet = workbook.active\n",
    "\n",
    "# Define column names\n",
    "column_names = ['id', 'name', 'price', 'category']\n",
    "\n",
    "# Append column names to the sheet\n",
    "sheet.append(column_names)\n",
    "\n",
    "# Append data from MySQL to the sheet\n",
    "for p in products:\n",
    "    row_values = [p[name] for name in column_names]  # Extract values using column names\n",
    "    sheet.append(row_values)\n",
    "\n",
    "# Save the workbook to an Excel file\n",
    "workbook.save( filename = 'exported_02.xlsx' )"
   ]
  },
  {
   "cell_type": "code",
   "execution_count": 4,
   "id": "0b541b64",
   "metadata": {},
   "outputs": [],
   "source": [
    "# then close the coursor and connection with MySQL\n",
    "cursor.close()\n",
    "connection.close()"
   ]
  }
 ],
 "metadata": {
  "kernelspec": {
   "display_name": "Python 3 (ipykernel)",
   "language": "python",
   "name": "python3"
  },
  "language_info": {
   "codemirror_mode": {
    "name": "ipython",
    "version": 3
   },
   "file_extension": ".py",
   "mimetype": "text/x-python",
   "name": "python",
   "nbconvert_exporter": "python",
   "pygments_lexer": "ipython3",
   "version": "3.11.7"
  }
 },
 "nbformat": 4,
 "nbformat_minor": 5
}
