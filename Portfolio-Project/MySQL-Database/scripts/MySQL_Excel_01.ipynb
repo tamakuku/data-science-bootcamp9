{
 "cells": [
  {
   "cell_type": "code",
   "execution_count": 23,
   "id": "8d8cdedb",
   "metadata": {},
   "outputs": [],
   "source": [
    "# for import & export excel file\n",
    "from openpyxl import load_workbook, Workbook\n",
    "\n",
    "# Install pymysql package if you haven't already\n",
    "!pip install pymysql\n",
    "import pymysql\n",
    "\n",
    "# load excel file\n",
    "workbook = load_workbook('imported_01.xlsx')\n",
    "sheet = workbook.active\n",
    "\n",
    "# create for loop for append data in excel file into list variable name Values\n",
    "values = []\n",
    "# Iterating over rows using iterrows()\n",
    "for row in sheet.iter_rows( min_row = 2, values_only = True):  # Append the row values as a list\n",
    "    print(row) # for print result\n",
    "    values.append(row)"
   ]
  },
  {
   "cell_type": "code",
   "execution_count": 10,
   "id": "5d139327",
   "metadata": {},
   "outputs": [
    {
     "name": "stdout",
     "output_type": "stream",
     "text": [
      "Connection successful!\n",
      "{'id': 3, 'name': 'หูฟัง', 'price': 4500, 'is_necessary': 0, 'created_date': datetime.datetime(2024, 5, 4, 17, 20, 22)}\n",
      "{'id': 4, 'name': 'จอยสติ๊ก Wirelesss', 'price': 1500, 'is_necessary': 0, 'created_date': datetime.datetime(2024, 5, 5, 15, 19, 25)}\n"
     ]
    }
   ],
   "source": [
    "# Establish a connection to the MySQL database\n",
    "connection = pymysql.connect(\n",
    "    host='localhost',\n",
    "    port= 3306,\n",
    "    user='root',\n",
    "    password='Suphakit_2024',\n",
    "    database='tama_want_to_buy',\n",
    "    cursorclass=pymysql.cursors.DictCursor\n",
    ")\n",
    "\n",
    "# Check if the connection is successful\n",
    "if connection:\n",
    "    print(\"Connection successful!\")\n",
    "else:\n",
    "    print(\"Connection failed.\")\n",
    "\n",
    "# Example query\n",
    "query = \"SELECT * FROM products\"\n",
    "\n",
    "# Execute the query\n",
    "with connection.cursor() as cursor:\n",
    "    cursor.execute(query)\n",
    "    result = cursor.fetchall()\n",
    "\n",
    "# Display the result\n",
    "for row in result:\n",
    "    print(row)"
   ]
  },
  {
   "cell_type": "code",
   "execution_count": 14,
   "id": "2ee9c5f2",
   "metadata": {},
   "outputs": [
    {
     "name": "stdout",
     "output_type": "stream",
     "text": [
      "เพิมข้อมูล 4 แถว\n"
     ]
    }
   ],
   "source": [
    "# use .cursor() for use SQL code for insert data from db variable\n",
    "cursor = connection.cursor()\n",
    "sql = '''\n",
    "    INSERT INTO products (name, price, is_necessary)\n",
    "    VALUES (%s, %s, %s);\n",
    "'''\n",
    "\n",
    "# use .executemany() for insert to many data from List or Tuple with second paramter is 'values'\n",
    "cursor.executemany(sql, values)\n",
    "\n",
    "# use .commit() for commit to run above code\n",
    "connection.commit()\n",
    "\n",
    "# then print for update process\n",
    "print( \"เพิมข้อมูล \" + str(cursor.rowcount) + \" แถว\")"
   ]
  },
  {
   "cell_type": "code",
   "execution_count": 31,
   "id": "a870aa62",
   "metadata": {},
   "outputs": [
    {
     "name": "stdout",
     "output_type": "stream",
     "text": [
      "{'id': 3, 'name': 'หูฟัง', 'price': 4500, 'is_necessary': 0, 'created_date': datetime.datetime(2024, 5, 4, 17, 20, 22)}\n",
      "{'id': 4, 'name': 'จอยสติ๊ก Wirelesss', 'price': 1500, 'is_necessary': 0, 'created_date': datetime.datetime(2024, 5, 5, 15, 19, 25)}\n",
      "{'id': 8, 'name': 'ซีพียู', 'price': 7000, 'is_necessary': 0, 'created_date': datetime.datetime(2024, 5, 7, 13, 50, 16)}\n",
      "{'id': 9, 'name': 'เมนบอร์ด', 'price': 6000, 'is_necessary': 0, 'created_date': datetime.datetime(2024, 5, 7, 13, 50, 16)}\n",
      "{'id': 10, 'name': 'แรม', 'price': 3500, 'is_necessary': 0, 'created_date': datetime.datetime(2024, 5, 7, 13, 50, 16)}\n",
      "{'id': 11, 'name': 'โคมไฟตั้งพื้น', 'price': 2500, 'is_necessary': 1, 'created_date': datetime.datetime(2024, 5, 7, 13, 50, 16)}\n"
     ]
    }
   ],
   "source": [
    "# export to Excel file\n",
    "\n",
    "# Query data from MySQL\n",
    "cursor = connection.cursor()\n",
    "sql = '''\n",
    "    SELECT * FROM products;\n",
    "'''\n",
    "cursor.execute(sql) \n",
    "products = cursor.fetchall()\n",
    "\n",
    "# use for loop print all data\n",
    "for p in products:\n",
    "    print(p)"
   ]
  },
  {
   "cell_type": "code",
   "execution_count": 34,
   "id": "bad0caa6",
   "metadata": {},
   "outputs": [],
   "source": [
    "# Create a new Excel workbook and select the active sheet\n",
    "workbook = Workbook()\n",
    "sheet = workbook.active\n",
    "\n",
    "# Define column names\n",
    "column_names = ['id', 'name', 'price', 'is_necessary', 'created_date']\n",
    "\n",
    "# Append column names to the sheet\n",
    "sheet.append(column_names)\n",
    "\n",
    "# Append data from MySQL to the sheet\n",
    "for p in products:\n",
    "    row_values = [p[name] for name in column_names]  # Extract values using column names\n",
    "    sheet.append(row_values)\n",
    "\n",
    "# Save the workbook to an Excel file\n",
    "workbook.save(filename='exported_01.xlsx')"
   ]
  },
  {
   "cell_type": "code",
   "execution_count": 35,
   "id": "0b541b64",
   "metadata": {},
   "outputs": [],
   "source": [
    "# then close the connection with MySQL\n",
    "connection.close()"
   ]
  }
 ],
 "metadata": {
  "kernelspec": {
   "display_name": "Python 3 (ipykernel)",
   "language": "python",
   "name": "python3"
  },
  "language_info": {
   "codemirror_mode": {
    "name": "ipython",
    "version": 3
   },
   "file_extension": ".py",
   "mimetype": "text/x-python",
   "name": "python",
   "nbconvert_exporter": "python",
   "pygments_lexer": "ipython3",
   "version": "3.11.7"
  }
 },
 "nbformat": 4,
 "nbformat_minor": 5
}
