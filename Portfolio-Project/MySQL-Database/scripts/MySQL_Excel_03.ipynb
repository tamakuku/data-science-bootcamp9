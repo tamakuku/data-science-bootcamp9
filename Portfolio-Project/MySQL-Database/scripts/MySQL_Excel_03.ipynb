{
 "cells": [
  {
   "cell_type": "code",
   "execution_count": 2,
   "id": "5d139327",
   "metadata": {},
   "outputs": [
    {
     "name": "stdout",
     "output_type": "stream",
     "text": [
      "Requirement already satisfied: pymysql in c:\\users\\v_pan\\anaconda3\\lib\\site-packages (1.1.0)\n",
      "Connection successful!\n"
     ]
    }
   ],
   "source": [
    "# for import & export excel file\n",
    "from openpyxl import load_workbook, Workbook\n",
    "\n",
    "# Install pymysql package if you haven't already\n",
    "!pip install pymysql\n",
    "import pymysql\n",
    "\n",
    "# Establish a connection to the MySQL database\n",
    "connection = pymysql.connect(\n",
    "    host='localhost',\n",
    "    port= 3306,\n",
    "    user='root',\n",
    "    password='xxxx', # censor my password\n",
    "    database='tama_want_to_buy',\n",
    "    cursorclass=pymysql.cursors.DictCursor\n",
    ")\n",
    "\n",
    "# Check if the connection is successful\n",
    "if connection:\n",
    "    print(\"Connection successful!\")\n",
    "else:\n",
    "    print(\"Connection failed.\")"
   ]
  },
  {
   "cell_type": "code",
   "execution_count": 3,
   "id": "b123e4c5",
   "metadata": {},
   "outputs": [
    {
     "name": "stdout",
     "output_type": "stream",
     "text": [
      "ไม่มีประเภทสินค้าใหม่ให้เพิ่ม\n"
     ]
    }
   ],
   "source": [
    "# Step01: Load new data from the Excel file named 'imported_02.xlsx'\n",
    "workbook = load_workbook('imported_02.xlsx')  # Open the Excel workbook\n",
    "sheet = workbook.active  # Get the active sheet within the workbook\n",
    "\n",
    "\n",
    "# Create a cursor to execute SQL queries on the database\n",
    "cursor = connection.cursor()\n",
    "\n",
    "# Query all data from the 'categories' table in MySQL\n",
    "sql_select_categories = '''\n",
    "        SELECT * FROM categories;\n",
    "'''\n",
    "cursor.execute(sql_select_categories)  # Execute the query\n",
    "categories = cursor.fetchall()  # Fetch all the results into 'categories'\n",
    "\n",
    "\n",
    "# Step 02: Iterate over each row in the Excel sheet to compare categories with MySQL data\n",
    "categories_values = []  # List to store new categories\n",
    "for row in sheet.iter_rows(min_row=2, values_only=True):  # Skip headers, start from second row\n",
    "    is_new = True\n",
    "    category = row[3]  # Get category value from the row\n",
    "    \n",
    "    # Check if the category from the Excel sheet is already in MySQL\n",
    "    for c in categories:\n",
    "        if category == c['name']:  # Compare category names\n",
    "            is_new = False  # Category already exists, mark as not new\n",
    "            break\n",
    "            \n",
    "    if is_new:\n",
    "        print((category, )) # Print what data will append into tuple\n",
    "        categories_values.append((category,))  # Add new category to the list as a tuple\n",
    "\n",
    "# Step 03: If new categories are found, insert them into the 'categories' table in MySQL\n",
    "if len(categories_values) > 0:\n",
    "    sql_insert_categories = '''\n",
    "        INSERT INTO categories (name)\n",
    "        VALUES (%s)\n",
    "    '''\n",
    "    cursor.executemany(sql_insert_categories, categories_values)  # Execute insertion query\n",
    "    connection.commit()  # Commit the changes to the database\n",
    "\n",
    "    # Print the status of the insertion process\n",
    "    print('เพิ่มประเภทสินค้าจำนวน ' + str(cursor.rowcount) + ' แถว')\n",
    "else:\n",
    "    print('ไม่มีประเภทสินค้าใหม่ให้เพิ่ม')  # No new categories found"
   ]
  },
  {
   "cell_type": "code",
   "execution_count": 16,
   "id": "8af57fe7",
   "metadata": {},
   "outputs": [
    {
     "name": "stdout",
     "output_type": "stream",
     "text": [
      "('เมนบอร์ด', 6000, 0, 1)\n",
      "('หมวกลูฟี่', 350, 0, 10)\n",
      "('โคมไฟตั้งพื้น', 2500, 1, 11)\n",
      "เพิ่มสิน้คาจำนวน 3 แถว\n"
     ]
    }
   ],
   "source": [
    "# Query all data from the 'categories' table in MySQL\n",
    "cursor.execute(sql_select_categories)\n",
    "categories = cursor.fetchall()  # Fetch all categories from MySQL\n",
    "\n",
    "products_values = []  # List to store new products\n",
    "\n",
    "# Iterate over each row in the Excel sheet to match category_id for inputting into new products\n",
    "for row in sheet.iter_rows(min_row=2, values_only=True):  # Skip headers, start from the second row\n",
    "    category_name = row[3]  # Get the category name from the Excel file\n",
    "    category_id = 'None'  # Default category ID to None\n",
    "    \n",
    "    # Iterate through categories fetched from MySQL to find matching category name\n",
    "    for category in categories:\n",
    "        if category_name == category['name']:  # Compare category names\n",
    "            category_id = category['id']  # If a match is found, assign the category ID\n",
    "            break\n",
    "    \n",
    "    # Create a tuple representing the product data with its category ID\n",
    "    product = (row[0], row[1], row[2], category_id)\n",
    "    print(product)  # Print the product tuple (for debugging)\n",
    "    products_values.append(product)  # Add the product tuple to the list of product values\n",
    "\n",
    "# SQL query to insert new products into the 'products' table in MySQL\n",
    "sql_insert_products = '''\n",
    "    INSERT INTO products (name, price, is_necessary, category_id)\n",
    "    VALUES (%s, %s, %s, %s);\n",
    "'''\n",
    "\n",
    "# Execute the insertion query for each product and commit the changes to the database\n",
    "cursor.executemany(sql_insert_products, products_values)\n",
    "connection.commit()\n",
    "\n",
    "# Print the status of the insertion process\n",
    "print('เพิ่มสิน้คาจำนวน ' + str(cursor.rowcount) + ' แถว')\n"
   ]
  },
  {
   "cell_type": "code",
   "execution_count": 12,
   "id": "0b541b64",
   "metadata": {},
   "outputs": [],
   "source": [
    "# then close the coursor and connection with MySQL\n",
    "cursor.close()\n",
    "connection.close()"
   ]
  }
 ],
 "metadata": {
  "kernelspec": {
   "display_name": "Python 3 (ipykernel)",
   "language": "python",
   "name": "python3"
  },
  "language_info": {
   "codemirror_mode": {
    "name": "ipython",
    "version": 3
   },
   "file_extension": ".py",
   "mimetype": "text/x-python",
   "name": "python",
   "nbconvert_exporter": "python",
   "pygments_lexer": "ipython3",
   "version": "3.11.7"
  }
 },
 "nbformat": 4,
 "nbformat_minor": 5
}
