{
 "cells": [
  {
   "cell_type": "code",
   "execution_count": 16,
   "id": "84ce96ed",
   "metadata": {},
   "outputs": [],
   "source": [
    "import tkinter as tk  # Import the tkinter library to make the GUI (Graphical User Interface)\n",
    "\n",
    "# This function will run when we press the button\n",
    "def show_output():\n",
    "    try:\n",
    "        # Get the number that the user typed in the entry box\n",
    "        number = int(number_input.get())\n",
    "        \n",
    "        # Make condition if input 0, show a warning message\n",
    "        if number == 0:\n",
    "            output_label.configure( text = \"Useless multiple with zero!\")\n",
    "            return\n",
    "        \n",
    "        output = ''  # Start with an empty string to build our output\n",
    "        for i in range(1, 13):\n",
    "            # Create each line of the multiplication table\n",
    "            output += f'{number} x {i} = {number * i}\\n'\n",
    "        \n",
    "        # Show the result in the output label\n",
    "        output_label.configure( text = output)\n",
    "    except ValueError:\n",
    "        # If the user didn't type a number, show an error message\n",
    "        output_label.configure( text = \"Please enter a valid number ;)\")\n",
    "\n",
    "# Create the main window\n",
    "window = tk.Tk()\n",
    "window.title('Multiple_Number')  # Set the window title\n",
    "window.minsize( width = 400, height = 400)  # Set the minimum window size\n",
    "\n",
    "# Create and add a label at the top of the window\n",
    "title_label = tk.Label( window, text = 'สูตรคูณแม่')\n",
    "title_label.pack( pady = 20) # input pady = xxx, for adjust layout\n",
    "\n",
    "# Create and add a text box for the user to type a number\n",
    "number_input = tk.Entry(window, width = 15) # for adjust dimension\n",
    "number_input.pack()\n",
    "\n",
    "# Create and add a button that calls the show_output function when clicked\n",
    "go_button = tk.Button( window, text = 'ได้แก่',\n",
    "                       command = show_output,\n",
    "                       width = 15, height = 2) # for adjust dimension\n",
    "go_button.pack( pady = 20) # input pady = xxx, for adjust layout\n",
    "\n",
    "# Create and add a label where the output will be displayed\n",
    "output_label = tk.Label(window)\n",
    "output_label.pack()\n",
    "\n",
    "# Start the application\n",
    "window.mainloop()\n"
   ]
  }
 ],
 "metadata": {
  "kernelspec": {
   "display_name": "Python 3 (ipykernel)",
   "language": "python",
   "name": "python3"
  },
  "language_info": {
   "codemirror_mode": {
    "name": "ipython",
    "version": 3
   },
   "file_extension": ".py",
   "mimetype": "text/x-python",
   "name": "python",
   "nbconvert_exporter": "python",
   "pygments_lexer": "ipython3",
   "version": "3.11.7"
  }
 },
 "nbformat": 4,
 "nbformat_minor": 5
}
